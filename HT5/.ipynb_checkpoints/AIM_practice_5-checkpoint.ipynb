{
 "cells": [
  {
   "cell_type": "markdown",
   "id": "d38472ff-0fdd-4444-9982-43fdecc604e5",
   "metadata": {},
   "source": [
    "## Линейная регрессия"
   ]
  },
  {
   "cell_type": "markdown",
   "id": "f47110ec-c1a1-4198-89b5-1337b27052dd",
   "metadata": {
    "jp-MarkdownHeadingCollapsed": true
   },
   "source": [
    "#### 2 столбца"
   ]
  },
  {
   "cell_type": "markdown",
   "id": "8595995c-f6bf-4d71-b116-1c7369687b5a",
   "metadata": {
    "jp-MarkdownHeadingCollapsed": true
   },
   "source": [
    "#### 3 столбца"
   ]
  },
  {
   "cell_type": "markdown",
   "id": "9bebbf80-f278-45eb-8ae0-7703db97e738",
   "metadata": {
    "jp-MarkdownHeadingCollapsed": true
   },
   "source": [
    "#### Все столбцы"
   ]
  },
  {
   "cell_type": "markdown",
   "id": "2fc58b9a-7a67-40c5-a63d-0be70eea0f03",
   "metadata": {
    "jp-MarkdownHeadingCollapsed": true
   },
   "source": [
    "#### Расчет MSE"
   ]
  },
  {
   "cell_type": "markdown",
   "id": "aa8dbbbf-016b-4af0-95bb-3232baf66550",
   "metadata": {},
   "source": [
    "#### Коэффициенты модели"
   ]
  },
  {
   "cell_type": "markdown",
   "id": "1f3a5150-15d0-41f8-9060-378c6cb074c7",
   "metadata": {},
   "source": [
    "## Линейная регрессия с полиномами в качестве базисных функций"
   ]
  },
  {
   "cell_type": "markdown",
   "id": "f4ec0387-dfa0-4685-855d-e64d91734145",
   "metadata": {
    "jp-MarkdownHeadingCollapsed": true
   },
   "source": [
    "#### Зависимость MSE от степени полинома N"
   ]
  },
  {
   "cell_type": "markdown",
   "id": "37d213e6-6260-4de6-b3ea-9ada91acdb5b",
   "metadata": {},
   "source": [
    "## Регуляризация и гребневая регрессия"
   ]
  },
  {
   "cell_type": "markdown",
   "id": "cd6950b0-c14a-4986-9b9e-8d05185a5470",
   "metadata": {},
   "source": [
    "#### Выбор оптимальной степени полинома"
   ]
  },
  {
   "cell_type": "markdown",
   "id": "268f015c-2d43-4d49-9816-d29f720ecd7a",
   "metadata": {},
   "source": [
    "#### График зависимости максимального модуля параметров и MSE от величины alpha"
   ]
  },
  {
   "cell_type": "markdown",
   "id": "8a73bef6-8134-420f-a258-bfbadbe47348",
   "metadata": {},
   "source": [
    "## Регуляризация и лассо"
   ]
  },
  {
   "cell_type": "markdown",
   "id": "5b784e4c-2a3f-4fbe-bfc5-e9e5f45a1d83",
   "metadata": {},
   "source": [
    "#### Выбор оптимальной степени полинома"
   ]
  },
  {
   "cell_type": "markdown",
   "id": "2c805a43-8c89-413c-8bae-b9f7733a2fc4",
   "metadata": {},
   "source": [
    "#### График зависимости максимального модуля параметров и MSE от величины alpha"
   ]
  },
  {
   "cell_type": "markdown",
   "id": "451d945c-6de0-4446-8baa-1025952bb3f2",
   "metadata": {},
   "source": [
    "## SVR (SVM for numerical values)"
   ]
  },
  {
   "cell_type": "markdown",
   "id": "c74f8bbb-86d2-4d54-bb10-f9d81aad2ec6",
   "metadata": {},
   "source": [
    "#### Исследование точности модкли при использовании ядерных функций poly и sigmoid"
   ]
  },
  {
   "cell_type": "markdown",
   "id": "08251119-6a9d-42f9-90c6-41e1d665ddfc",
   "metadata": {},
   "source": [
    "#### Модель SVR, учитывающая все характеристики исходных данных"
   ]
  },
  {
   "cell_type": "markdown",
   "id": "889a58cf-275a-4753-95e1-5e9f1f287d2f",
   "metadata": {
    "jp-MarkdownHeadingCollapsed": true
   },
   "source": [
    "#### Выбор модели с оптимальными параметрами"
   ]
  }
 ],
 "metadata": {
  "kernelspec": {
   "display_name": "Python 3 (ipykernel)",
   "language": "python",
   "name": "python3"
  },
  "language_info": {
   "codemirror_mode": {
    "name": "ipython",
    "version": 3
   },
   "file_extension": ".py",
   "mimetype": "text/x-python",
   "name": "python",
   "nbconvert_exporter": "python",
   "pygments_lexer": "ipython3",
   "version": "3.12.7"
  }
 },
 "nbformat": 4,
 "nbformat_minor": 5
}
