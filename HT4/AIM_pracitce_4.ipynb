{
 "cells": [
  {
   "cell_type": "code",
   "execution_count": 33,
   "id": "7ae4ac1b",
   "metadata": {},
   "outputs": [],
   "source": [
    "import torch\n",
    "from torch import nn\n",
    "from torch.utils.data import DataLoader\n",
    "from torchvision import datasets\n",
    "from torchvision.transforms import ToTensor\n",
    "\n",
    "train_data = datasets.FashionMNIST(\n",
    "    root = \"data\",\n",
    "    train = True,\n",
    "    download = True,\n",
    "    transform = ToTensor()\n",
    ")\n",
    "\n",
    "train_dataloader = DataLoader(train_data, batch_size = 64)\n",
    "\n",
    "test_data = datasets.FashionMNIST(\n",
    "    root = \"data\",\n",
    "    train = False,\n",
    "    download = True,\n",
    "    transform = ToTensor()\n",
    ")\n",
    "\n",
    "test_dataloader = DataLoader(test_data, batch_size = 64)\n",
    "\n",
    "class NeuralNetwork(nn.Module):\n",
    "    def __init__(self):\n",
    "        super().__init__()\n",
    "\n",
    "        self.flatten = nn.Flatten()\n",
    "\n",
    "        self.linear_relu_stack = nn.Sequential(\n",
    "            nn.Linear(28 * 28, 512),\n",
    "            nn.ReLU(),\n",
    "            nn.Linear(512, 512),\n",
    "            nn.ReLU(),\n",
    "            nn.Linear(512, 10),\n",
    "        )\n",
    "\n",
    "    def forward(self, x):\n",
    "        x = self.flatten(x)\n",
    "        \n",
    "        logits = self.linear_relu_stack(x)\n",
    "        \n",
    "        return logits\n",
    "\n",
    "model = NeuralNetwork()\n",
    "\n",
    "loss_function = nn.CrossEntropyLoss()"
   ]
  },
  {
   "cell_type": "code",
   "execution_count": 35,
   "id": "87ce9307",
   "metadata": {},
   "outputs": [],
   "source": [
    "def train_loop(dataloader, model, loss_function, optimizer):\n",
    "    size = len(dataloader.dataset)\n",
    "    \n",
    "    model.train()\n",
    "\n",
    "    sum_loss = 0\n",
    "    \n",
    "    for batch, (X, y) in enumerate(dataloader):\n",
    "        pred = model(X)\n",
    "        \n",
    "        loss = loss_function(pred, y)\n",
    "        \n",
    "        sum_loss += loss.item()\n",
    "\n",
    "        loss.backward()\n",
    "\n",
    "        optimizer.step()\n",
    "        \n",
    "        optimizer.zero_grad()\n",
    "\n",
    "        if batch % 100 == 0:\n",
    "            loss, current = loss.item(), batch * batch_size + len(X)\n",
    "            \n",
    "            print(f\"loss: {loss:>7f}  [{current:>5d}/{size:>5d}]\")"
   ]
  },
  {
   "cell_type": "code",
   "execution_count": 37,
   "id": "accbbee8",
   "metadata": {},
   "outputs": [],
   "source": [
    "def test_loop(dataloader, model, loss_function):\n",
    "    model.eval()\n",
    "    \n",
    "    size = len(dataloader.dataset)\n",
    "    \n",
    "    num_batches = len(dataloader)\n",
    "    \n",
    "    test_loss, correct = 0, 0\n",
    "\n",
    "    with torch.no_grad():\n",
    "        for X, y in dataloader:\n",
    "            pred = model(X)\n",
    "\n",
    "            test_loss += loss_function(pred, y).item()\n",
    "            \n",
    "            correct += (pred.argmax(1) == y).type(torch.float).sum().item()\n",
    "\n",
    "    test_loss /= num_batches\n",
    "    \n",
    "    correct /= size\n",
    "    \n",
    "    print(f\"Test Error: \\n Accuracy: {(100*correct):>0.1f}%, Avg loss: {test_loss:>8f} \\n\")\n",
    "    \n",
    "    return correct, test_loss"
   ]
  },
  {
   "cell_type": "code",
   "execution_count": 47,
   "id": "8519c8f7",
   "metadata": {},
   "outputs": [],
   "source": [
    "def run_training(epochs, train_dataloader, model, loss_function, optimizer):\n",
    "    test_loss = []\n",
    "    \n",
    "    for t in range(epochs):\n",
    "        print(f\"Epoch {t+1}\\n--------------------------------\")\n",
    "        \n",
    "        sum_loss = train_loop(train_dataloader, model, loss_function, optimizer)\n",
    "\n",
    "        acc, avg_loss = test_loop(test_dataloader, model, loss_function)\n",
    "\n",
    "        test_loss.append(avg_loss)\n",
    "    \n",
    "    print(\"Done!\")\n",
    "    \n",
    "    return test_loss"
   ]
  },
  {
   "cell_type": "code",
   "execution_count": 49,
   "id": "27de1979",
   "metadata": {},
   "outputs": [],
   "source": [
    "batch_size = 64\n",
    "epochs = 5\n",
    "learning_rate = 1e-3\n",
    "\n",
    "optimizer = torch.optim.SGD(model.parameters(), lr = learning_rate)"
   ]
  },
  {
   "cell_type": "code",
   "execution_count": 51,
   "id": "8daa2ffe",
   "metadata": {},
   "outputs": [
    {
     "name": "stdout",
     "output_type": "stream",
     "text": [
      "Epoch 1\n",
      "--------------------------------\n",
      "loss: 2.159095  [   64/60000]\n",
      "loss: 2.149498  [ 6464/60000]\n",
      "loss: 2.080738  [12864/60000]\n",
      "loss: 2.102732  [19264/60000]\n",
      "loss: 2.059502  [25664/60000]\n",
      "loss: 1.979267  [32064/60000]\n",
      "loss: 2.027855  [38464/60000]\n",
      "loss: 1.929547  [44864/60000]\n",
      "loss: 1.939038  [51264/60000]\n",
      "loss: 1.865826  [57664/60000]\n",
      "Test Error: \n",
      " Accuracy: 54.7%, Avg loss: 1.860959 \n",
      "\n",
      "Epoch 2\n",
      "--------------------------------\n",
      "loss: 1.893493  [   64/60000]\n",
      "loss: 1.865839  [ 6464/60000]\n",
      "loss: 1.730186  [12864/60000]\n",
      "loss: 1.785087  [19264/60000]\n",
      "loss: 1.687445  [25664/60000]\n",
      "loss: 1.615198  [32064/60000]\n",
      "loss: 1.657680  [38464/60000]\n",
      "loss: 1.539575  [44864/60000]\n",
      "loss: 1.571168  [51264/60000]\n",
      "loss: 1.467771  [57664/60000]\n",
      "Test Error: \n",
      " Accuracy: 61.4%, Avg loss: 1.486525 \n",
      "\n",
      "Epoch 3\n",
      "--------------------------------\n",
      "loss: 1.549398  [   64/60000]\n",
      "loss: 1.522901  [ 6464/60000]\n",
      "loss: 1.359525  [12864/60000]\n",
      "loss: 1.448159  [19264/60000]\n",
      "loss: 1.343245  [25664/60000]\n",
      "loss: 1.321153  [32064/60000]\n",
      "loss: 1.350285  [38464/60000]\n",
      "loss: 1.259847  [44864/60000]\n",
      "loss: 1.298216  [51264/60000]\n",
      "loss: 1.203179  [57664/60000]\n",
      "Test Error: \n",
      " Accuracy: 63.0%, Avg loss: 1.230937 \n",
      "\n",
      "Epoch 4\n",
      "--------------------------------\n",
      "loss: 1.303393  [   64/60000]\n",
      "loss: 1.292619  [ 6464/60000]\n",
      "loss: 1.117699  [12864/60000]\n",
      "loss: 1.236497  [19264/60000]\n",
      "loss: 1.124865  [25664/60000]\n",
      "loss: 1.136885  [32064/60000]\n",
      "loss: 1.167514  [38464/60000]\n",
      "loss: 1.089553  [44864/60000]\n",
      "loss: 1.131411  [51264/60000]\n",
      "loss: 1.051682  [57664/60000]\n",
      "Test Error: \n",
      " Accuracy: 64.2%, Avg loss: 1.074441 \n",
      "\n",
      "Epoch 5\n",
      "--------------------------------\n",
      "loss: 1.142340  [   64/60000]\n",
      "loss: 1.149219  [ 6464/60000]\n",
      "loss: 0.959070  [12864/60000]\n",
      "loss: 1.103693  [19264/60000]\n",
      "loss: 0.992075  [25664/60000]\n",
      "loss: 1.012619  [32064/60000]\n",
      "loss: 1.053861  [38464/60000]\n",
      "loss: 0.980455  [44864/60000]\n",
      "loss: 1.022102  [51264/60000]\n",
      "loss: 0.955953  [57664/60000]\n",
      "Test Error: \n",
      " Accuracy: 65.7%, Avg loss: 0.972854 \n",
      "\n",
      "Done!\n"
     ]
    }
   ],
   "source": [
    "test_loss_sgd = run_training(epochs, train_dataloader, model, loss_function, optimizer)"
   ]
  },
  {
   "cell_type": "code",
   "execution_count": 52,
   "id": "75d87ad7",
   "metadata": {},
   "outputs": [
    {
     "name": "stdout",
     "output_type": "stream",
     "text": [
      "[1.8609587721004608, 1.4865252933684427, 1.230937320715303, 1.0744413775243578, 0.9728541400781863]\n"
     ]
    }
   ],
   "source": [
    "print(test_loss_sgd)"
   ]
  },
  {
   "cell_type": "code",
   "execution_count": 57,
   "id": "218a7c59",
   "metadata": {},
   "outputs": [
    {
     "name": "stdout",
     "output_type": "stream",
     "text": [
      "Epoch 1\n",
      "--------------------------------\n",
      "loss: 2.309170  [   64/60000]\n",
      "loss: 0.571005  [ 6464/60000]\n",
      "loss: 0.445894  [12864/60000]\n",
      "loss: 0.496724  [19264/60000]\n",
      "loss: 0.498666  [25664/60000]\n",
      "loss: 0.475492  [32064/60000]\n",
      "loss: 0.418245  [38464/60000]\n",
      "loss: 0.517797  [44864/60000]\n",
      "loss: 0.528686  [51264/60000]\n",
      "loss: 0.448224  [57664/60000]\n",
      "Test Error: \n",
      " Accuracy: 82.7%, Avg loss: 0.462491 \n",
      "\n",
      "Epoch 2\n",
      "--------------------------------\n",
      "loss: 0.252671  [   64/60000]\n",
      "loss: 0.329764  [ 6464/60000]\n",
      "loss: 0.285406  [12864/60000]\n",
      "loss: 0.337492  [19264/60000]\n",
      "loss: 0.350482  [25664/60000]\n",
      "loss: 0.391601  [32064/60000]\n",
      "loss: 0.324323  [38464/60000]\n",
      "loss: 0.436602  [44864/60000]\n",
      "loss: 0.468740  [51264/60000]\n",
      "loss: 0.427749  [57664/60000]\n",
      "Test Error: \n",
      " Accuracy: 85.3%, Avg loss: 0.416451 \n",
      "\n",
      "Epoch 3\n",
      "--------------------------------\n",
      "loss: 0.228033  [   64/60000]\n",
      "loss: 0.329710  [ 6464/60000]\n",
      "loss: 0.216267  [12864/60000]\n",
      "loss: 0.304734  [19264/60000]\n",
      "loss: 0.376210  [25664/60000]\n",
      "loss: 0.401192  [32064/60000]\n",
      "loss: 0.287687  [38464/60000]\n",
      "loss: 0.412093  [44864/60000]\n",
      "loss: 0.415697  [51264/60000]\n",
      "loss: 0.365566  [57664/60000]\n",
      "Test Error: \n",
      " Accuracy: 85.4%, Avg loss: 0.423666 \n",
      "\n",
      "Epoch 4\n",
      "--------------------------------\n",
      "loss: 0.211262  [   64/60000]\n",
      "loss: 0.314114  [ 6464/60000]\n",
      "loss: 0.197578  [12864/60000]\n",
      "loss: 0.284787  [19264/60000]\n",
      "loss: 0.382440  [25664/60000]\n",
      "loss: 0.398078  [32064/60000]\n",
      "loss: 0.250049  [38464/60000]\n",
      "loss: 0.382115  [44864/60000]\n",
      "loss: 0.373678  [51264/60000]\n",
      "loss: 0.387436  [57664/60000]\n",
      "Test Error: \n",
      " Accuracy: 86.3%, Avg loss: 0.421715 \n",
      "\n",
      "Epoch 5\n",
      "--------------------------------\n",
      "loss: 0.185285  [   64/60000]\n",
      "loss: 0.306688  [ 6464/60000]\n",
      "loss: 0.184989  [12864/60000]\n",
      "loss: 0.241689  [19264/60000]\n",
      "loss: 0.349879  [25664/60000]\n",
      "loss: 0.440773  [32064/60000]\n",
      "loss: 0.240211  [38464/60000]\n",
      "loss: 0.355117  [44864/60000]\n",
      "loss: 0.383813  [51264/60000]\n",
      "loss: 0.370252  [57664/60000]\n",
      "Test Error: \n",
      " Accuracy: 86.3%, Avg loss: 0.418915 \n",
      "\n",
      "Done!\n"
     ]
    }
   ],
   "source": [
    "model = NeuralNetwork()\n",
    "\n",
    "optimizer = torch.optim.RMSprop(model.parameters(), lr = learning_rate, alpha = 0.9)\n",
    "\n",
    "test_loss_rms = run_training(epochs, train_dataloader, model, loss_function, optimizer)"
   ]
  },
  {
   "cell_type": "code",
   "execution_count": 58,
   "id": "b5c42b84",
   "metadata": {},
   "outputs": [
    {
     "data": {
      "text/plain": [
       "[0.4624909665554192,\n",
       " 0.4164512254250277,\n",
       " 0.4236662210362732,\n",
       " 0.4217154445352068,\n",
       " 0.418915058871743]"
      ]
     },
     "execution_count": 58,
     "metadata": {},
     "output_type": "execute_result"
    }
   ],
   "source": [
    "test_loss_rms"
   ]
  },
  {
   "cell_type": "markdown",
   "id": "012194fb-678d-461f-9ee8-fd1dcb0660cb",
   "metadata": {},
   "source": [
    "## Графики зависимости сходимости"
   ]
  },
  {
   "cell_type": "code",
   "execution_count": 61,
   "id": "5a05d8d8-5c01-40b2-897d-477972b1f693",
   "metadata": {},
   "outputs": [
    {
     "data": {
      "image/png": "[encoded data removed]",
      "text/plain": [
       "<Figure size 640x480 with 1 Axes>"
      ]
     },
     "metadata": {},
     "output_type": "display_data"
    }
   ],
   "source": [
    "import matplotlib.pyplot as plt\n",
    "\n",
    "plt.plot(range(1, epochs + 1), test_loss_sgd, label='SGD')\n",
    "plt.plot(range(1, epochs + 1), test_loss_rms, label='RMSprop')\n",
    "\n",
    "plt.xlabel('Epochs')\n",
    "plt.ylabel('Test Loss')\n",
    "\n",
    "plt.title('SGD & RMSprop')\n",
    "\n",
    "plt.grid(True)\n",
    "\n",
    "plt.legend()\n",
    "\n",
    "plt.show()"
   ]
  },
  {
   "cell_type": "markdown",
   "id": "2bcd6d30-94d9-4b76-aad0-13aa66f669a1",
   "metadata": {},
   "source": [
    "## Сравнение и выводы"
   ]
  }
 ],
 "metadata": {
  "kernelspec": {
   "display_name": "Python 3 (ipykernel)",
   "language": "python",
   "name": "python3"
  },
  "language_info": {
   "codemirror_mode": {
    "name": "ipython",
    "version": 3
   },
   "file_extension": ".py",
   "mimetype": "text/x-python",
   "name": "python",
   "nbconvert_exporter": "python",
   "pygments_lexer": "ipython3",
   "version": "3.12.7"
  }
 },
 "nbformat": 4,
 "nbformat_minor": 5
}
